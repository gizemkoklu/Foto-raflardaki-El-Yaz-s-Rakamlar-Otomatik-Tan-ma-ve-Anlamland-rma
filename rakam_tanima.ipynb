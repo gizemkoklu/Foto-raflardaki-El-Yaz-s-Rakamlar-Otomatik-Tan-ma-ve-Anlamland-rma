{
 "cells": [
  {
   "attachments": {},
   "cell_type": "markdown",
   "metadata": {},
   "source": [
    "## Fotoğraflardaki El Yazısı Rakamları Otomatik Tanıma ve Anlamlandırma\n"
   ]
  },
  {
   "cell_type": "code",
   "execution_count": 1,
   "metadata": {},
   "outputs": [],
   "source": [
    "import pandas as pd\n",
    "from matplotlib import pyplot as plt\n",
    "from sklearn.preprocessing import StandardScaler\n",
    "from sklearn.decomposition import PCA\n",
    "from sklearn.datasets import fetch_openml #mnist datasetini yüklemek için gerekli kütüphane\n",
    "from sklearn.linear_model import LogisticRegression\n",
    "from sklearn.model_selection import train_test_split\n",
    "\n",
    "mnist = fetch_openml('mnist_784')"
   ]
  },
  {
   "cell_type": "code",
   "execution_count": 2,
   "metadata": {},
   "outputs": [
    {
     "data": {
      "text/plain": [
       "(70000, 784)"
      ]
     },
     "execution_count": 2,
     "metadata": {},
     "output_type": "execute_result"
    }
   ],
   "source": [
    "mnist.data.shape"
   ]
  },
  {
   "attachments": {},
   "cell_type": "markdown",
   "metadata": {},
   "source": [
    "mnist dataseti içindeki rakam fotoğraflarını görmek için fonksiyon tanımlıyoruz:"
   ]
  },
  {
   "cell_type": "code",
   "execution_count": 3,
   "metadata": {},
   "outputs": [],
   "source": [
    "def showimage(dframe, index):   #parametreler; dataframe ve ilgili data fotoğrafının indexi\n",
    "    some_digit = dframe.to_numpy()[index]     # 'to_numpy()' fonksiyonu, pandas veri çerçevesini numpy dizisine dönüştürür. Bu satırda, belirtilen indeksteki veriyi alıp 'some_digit' adlı değişkene atıyoruz.\n",
    "    some_digit_image = some_digit.reshape(28,28)  # 'reshape' fonksiyonu, veriyi belirtilen boyutlara yeniden şekillendirir. Burada, 28x28 piksellik bir görüntü elde etmek için veriyi yeniden şekillendiriyoruz.\n",
    "\n",
    "\n",
    "    plt.imshow(some_digit_image, cmap=\"binary\")    # 'imshow' fonksiyonu, görüntüyü ekranda göstermeyi sağlar. 'some_digit_image' adlı görüntüyü 'binary' renk haritasıyla gösteriyoruz.\n",
    "\n",
    "    plt.axis(\"off\") #Eksenleri kapatıyoruz, böylece çizim üzerindeki eksen işaretleri görünmez.\n",
    "\n",
    "    plt.show()"
   ]
  },
  {
   "cell_type": "code",
   "execution_count": 6,
   "metadata": {},
   "outputs": [
    {
     "data": {
      "image/png": "[encoded data removed]",
      "text/plain": [
       "<Figure size 432x288 with 1 Axes>"
      ]
     },
     "metadata": {
      "needs_background": "light"
     },
     "output_type": "display_data"
    }
   ],
   "source": [
    "#örnek\n",
    "showimage(mnist.data, 0)  #mnist datasetindeki ilk data"
   ]
  },
  {
   "attachments": {},
   "cell_type": "markdown",
   "metadata": {},
   "source": [
    "\n",
    "MNIST veri kümesi, 'mnist.data' ve 'mnist.target' olarak adlandırılan veri ve hedef etiketlerden oluşuyor.\n",
    "\n",
    "'train_test_split' fonksiyonu, veriyi eğitim ve test altkümelerine ayırmak için kullanılır.\n",
    "\n",
    "Parametreler:\n",
    "- 'mnist.data': Veri kümesinin giriş verileri (örneklerin özellikleri)\n",
    "- 'mnist.target': Veri kümesinin hedef etiketleri (örneklerin doğru sınıfları)\n",
    "- 'test_size': Test altkümesinin tüm veri kümesine oranı. Bu örnekte 1/7'si (yaklaşık %14.29)\n",
    "- 'random_state': Rastgele örneklem alma sırasını kontrol etmek için kullanılan rastgele durum değeri"
   ]
  },
  {
   "cell_type": "code",
   "execution_count": 7,
   "metadata": {},
   "outputs": [],
   "source": [
    "# test oranı: 1/7 , train oranı: 6/7\n",
    "train_img, test_img, train_lbl, test_lbl = train_test_split(mnist.data, mnist.target, test_size=1/7.0, random_state=0)\n",
    "\n",
    "# Yukarıdaki satırda, 'train_test_split' fonksiyonu çağrılır ve dönen sonuçlar sırasıyla dört değişkene atanır:\n",
    "# - 'train_img': Eğitim verileri (giriş verileri)\n",
    "# - 'test_img': Test verileri (giriş verileri)\n",
    "# - 'train_lbl': Eğitim verilerinin hedef etiketleri\n",
    "# - 'test_lbl': Test verilerinin hedef etiketleri"
   ]
  },
  {
   "cell_type": "code",
   "execution_count": 8,
   "metadata": {},
   "outputs": [
    {
     "data": {
      "text/plain": [
       "pandas.core.frame.DataFrame"
      ]
     },
     "execution_count": 8,
     "metadata": {},
     "output_type": "execute_result"
    }
   ],
   "source": [
    "type(train_img)"
   ]
  },
  {
   "cell_type": "code",
   "execution_count": 9,
   "metadata": {},
   "outputs": [],
   "source": [
    "# rakam tahminlerini kontrol etmek için değişim öncesi train_img dataframeini kopyalıyoruz\n",
    "test_img_copy = test_img.copy()"
   ]
  },
  {
   "cell_type": "code",
   "execution_count": 10,
   "metadata": {},
   "outputs": [
    {
     "data": {
      "image/png": "[encoded data removed]",
      "text/plain": [
       "<Figure size 432x288 with 1 Axes>"
      ]
     },
     "metadata": {
      "needs_background": "light"
     },
     "output_type": "display_data"
    }
   ],
   "source": [
    "showimage(test_img_copy, 2)"
   ]
  },
  {
   "attachments": {},
   "cell_type": "markdown",
   "metadata": {},
   "source": [
    "### Scale Aşaması\n",
    "Scaling: Verilerin farklı ölçeklerde olduğu durumlarda, onları aynı ölçek veya aralığa getirme işlemine verilen isimdir.\n",
    "\n",
    "PCA, scale edilmemiş verilerde hatalı sonuçlar verebiliyor bu nedenle mutlaka scaling işlemini uyguluyoruz.\n"
   ]
  },
  {
   "cell_type": "code",
   "execution_count": 12,
   "metadata": {},
   "outputs": [],
   "source": [
    "scaler = StandardScaler()\n",
    "\n",
    "scaler.fit(train_img) #scaler işlemini training set üzerinde yapmamız yeterli\n",
    "\n",
    "#transform işlemi ise hem training hem de test setine yapmamız gerekiyor\n",
    "train_img = scaler.transform(train_img)\n",
    "test_img = scaler.transform(test_img)"
   ]
  },
  {
   "attachments": {},
   "cell_type": "markdown",
   "metadata": {},
   "source": [
    "### PCA İşlemi\n",
    "Çok değişkenli bir veri setindeki değişkenler arasındaki ilişkileri anlamak ve veri boyutunu azaltmak için kullanılan bir istatistiksel bir tekniktir.\n"
   ]
  },
  {
   "cell_type": "code",
   "execution_count": 13,
   "metadata": {},
   "outputs": [],
   "source": [
    "pca = PCA(.95) #variance'ın %95 oranında korunmasını istiyoruz\n",
    "\n",
    "#PCA modeli, tüm bileşenlerin varyansının %95'ini koruyacak şekilde veriyi sıkıştıracak ve boyut azaltma işlemini gerçekleştirecektir."
   ]
  },
  {
   "cell_type": "code",
   "execution_count": 14,
   "metadata": {},
   "outputs": [
    {
     "data": {
      "text/plain": [
       "PCA(n_components=0.95)"
      ]
     },
     "execution_count": 14,
     "metadata": {},
     "output_type": "execute_result"
    }
   ],
   "source": [
    "pca.fit(train_img) #pca işlemini training sete yapmamız yeterlidir"
   ]
  },
  {
   "cell_type": "code",
   "execution_count": 15,
   "metadata": {},
   "outputs": [
    {
     "name": "stdout",
     "output_type": "stream",
     "text": [
      "327\n"
     ]
    }
   ],
   "source": [
    "print(pca.n_components_) #784 boyutu kaç boyuta düşürdüğüne bakıyoruz"
   ]
  },
  {
   "cell_type": "code",
   "execution_count": 16,
   "metadata": {},
   "outputs": [],
   "source": [
    "#transform işlemiyle train ve test veri setimizin boyutlarını 784'ten 327'ye düşürelim\n",
    "train_img = pca.transform(train_img)\n",
    "test_img = pca.transform(test_img)"
   ]
  },
  {
   "attachments": {},
   "cell_type": "markdown",
   "metadata": {},
   "source": [
    "### Logistic Regression Aşaması\n",
    "Özet olarak Lojistik Regresyon makine öğrenimi ve istatistikte sınıflandırma problemleri için kullanılan bir algoritmadır. İki veya daha fazla sınıf arasında ayrım yapmak amacıyla kullanılır.\n",
    "\n",
    "Logistic Regression modelimizi PCA işleminden geçirilmiş verisetimiz üzerinde uygulayacağız."
   ]
  },
  {
   "cell_type": "code",
   "execution_count": 17,
   "metadata": {},
   "outputs": [],
   "source": [
    "# default solver çok yavaş çalıştığı için daha hızlı olan 'lbfgs' solverı seçerek logisticregression nesnemizi oluşturuyoruz.\n",
    "\n",
    "logisticRegr = LogisticRegression(solver = 'lbfgs', max_iter=10000)"
   ]
  },
  {
   "attachments": {},
   "cell_type": "markdown",
   "metadata": {},
   "source": [
    "solver='lbfgs': Bu parametre, lojistik regresyon modelinin optimize edilmesi için kullanılacak olan algoritmayı belirtir. 'lbfgs', sınırlı bellekli Broyden-Fletcher-Goldfarb-Shanno (L-BFGS) algoritmasını belirtir. Bu algoritma, genellikle lojistik regresyon gibi küçük boyutlu veriler için tercih edilir.\n",
    "\n",
    "max_iter=10000: Bu parametre, optimizasyon algoritmasının en fazla kaç iterasyon yapacağını belirtir. Burada 10,000 iterasyon kullanıldı. Bu sayı, optimize edilecek modelin karmaşıklığına ve veri boyutuna bağlı olarak ayarlanabilir."
   ]
  },
  {
   "attachments": {},
   "cell_type": "markdown",
   "metadata": {},
   "source": [
    "#### LogisticRegression Modelimizi train datamızı kullanarak eğitiyoruz"
   ]
  },
  {
   "cell_type": "code",
   "execution_count": 18,
   "metadata": {},
   "outputs": [
    {
     "data": {
      "text/plain": [
       "LogisticRegression(max_iter=10000)"
      ]
     },
     "execution_count": 18,
     "metadata": {},
     "output_type": "execute_result"
    }
   ],
   "source": [
    "logisticRegr.fit(train_img, train_lbl)"
   ]
  },
  {
   "attachments": {},
   "cell_type": "markdown",
   "metadata": {},
   "source": [
    "modelimiz eğitildi.\n",
    "el yazısı rakamları makine öğrenmesi ile tanıma işlemi:"
   ]
  },
  {
   "cell_type": "code",
   "execution_count": 20,
   "metadata": {},
   "outputs": [
    {
     "data": {
      "image/png": "[encoded data removed]",
      "text/plain": [
       "<Figure size 432x288 with 1 Axes>"
      ]
     },
     "metadata": {
      "needs_background": "light"
     },
     "output_type": "display_data"
    }
   ],
   "source": [
    "# rakam tahminlerini kontrol etmek için kopya datasetimizden 0. indexin hangi fotoğraf olduğuna bakıyoruz:\n",
    "showimage(test_img_copy, 0)"
   ]
  },
  {
   "cell_type": "code",
   "execution_count": 19,
   "metadata": {},
   "outputs": [
    {
     "data": {
      "text/plain": [
       "array(['0'], dtype=object)"
      ]
     },
     "execution_count": 19,
     "metadata": {},
     "output_type": "execute_result"
    }
   ],
   "source": [
    "# ve makine öğreniminin tahmini:\n",
    "logisticRegr.predict(test_img[0].reshape(1, -1))"
   ]
  },
  {
   "cell_type": "code",
   "execution_count": 21,
   "metadata": {},
   "outputs": [
    {
     "data": {
      "image/png": "[encoded data removed]",
      "text/plain": [
       "<Figure size 432x288 with 1 Axes>"
      ]
     },
     "metadata": {
      "needs_background": "light"
     },
     "output_type": "display_data"
    }
   ],
   "source": [
    "showimage(test_img_copy, 1)"
   ]
  },
  {
   "cell_type": "code",
   "execution_count": 23,
   "metadata": {},
   "outputs": [
    {
     "data": {
      "text/plain": [
       "array(['4'], dtype=object)"
      ]
     },
     "execution_count": 23,
     "metadata": {},
     "output_type": "execute_result"
    }
   ],
   "source": [
    "logisticRegr.predict(test_img[1].reshape(1, -1))"
   ]
  },
  {
   "cell_type": "code",
   "execution_count": 25,
   "metadata": {},
   "outputs": [
    {
     "data": {
      "image/png": "[encoded data removed]",
      "text/plain": [
       "<Figure size 432x288 with 1 Axes>"
      ]
     },
     "metadata": {
      "needs_background": "light"
     },
     "output_type": "display_data"
    }
   ],
   "source": [
    "showimage(test_img_copy, 200)"
   ]
  },
  {
   "cell_type": "code",
   "execution_count": 26,
   "metadata": {},
   "outputs": [
    {
     "data": {
      "text/plain": [
       "array(['1'], dtype=object)"
      ]
     },
     "execution_count": 26,
     "metadata": {},
     "output_type": "execute_result"
    }
   ],
   "source": [
    "logisticRegr.predict(test_img[200].reshape(1, -1))"
   ]
  },
  {
   "attachments": {},
   "cell_type": "markdown",
   "metadata": {},
   "source": [
    "### accuracy score\n",
    "\n",
    "modelimizin doğruluk oranını ölçelim:\n",
    "\n",
    "test_img verilerini kullanarak logisticRegr adlı lojistik regresyon modelinin tahminlerini yapar ve ardından bu tahminleri test_lbl (test etiketleri) ile karşılaştırarak doğruluk (accuracy) skorunu hesaplar."
   ]
  },
  {
   "cell_type": "code",
   "execution_count": 27,
   "metadata": {},
   "outputs": [
    {
     "data": {
      "text/plain": [
       "0.9184"
      ]
     },
     "execution_count": 27,
     "metadata": {},
     "output_type": "execute_result"
    }
   ],
   "source": [
    "logisticRegr.score(test_img, test_lbl)"
   ]
  }
 ],
 "metadata": {
  "kernelspec": {
   "display_name": "base",
   "language": "python",
   "name": "python3"
  },
  "language_info": {
   "codemirror_mode": {
    "name": "ipython",
    "version": 3
   },
   "file_extension": ".py",
   "mimetype": "text/x-python",
   "name": "python",
   "nbconvert_exporter": "python",
   "pygments_lexer": "ipython3",
   "version": "3.9.12"
  },
  "orig_nbformat": 4
 },
 "nbformat": 4,
 "nbformat_minor": 2
}
